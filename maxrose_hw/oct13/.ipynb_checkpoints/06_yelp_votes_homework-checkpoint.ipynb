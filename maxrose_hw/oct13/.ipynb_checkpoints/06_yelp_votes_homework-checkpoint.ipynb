{
 "cells": [
  {
   "cell_type": "markdown",
   "metadata": {},
   "source": [
    "# Linear regression homework with Yelp votes"
   ]
  },
  {
   "cell_type": "markdown",
   "metadata": {},
   "source": [
    "## Introduction\n",
    "\n",
    "This assignment uses a small subset of the data from Kaggle's [Yelp Business Rating Prediction](https://www.kaggle.com/c/yelp-recsys-2013) competition.\n",
    "\n",
    "**Description of the data:**\n",
    "\n",
    "- `yelp.json` is the original format of the file. `yelp.csv` contains the same data, in a more convenient format. Both of the files are in this repo, so there is no need to download the data from the Kaggle website.\n",
    "- Each observation in this dataset is a review of a particular business by a particular user.\n",
    "- The \"stars\" column is the number of stars (1 through 5) assigned by the reviewer to the business. (Higher stars is better.) In other words, it is the rating of the business by the person who wrote the review.\n",
    "- The \"cool\" column is the number of \"cool\" votes this review received from other Yelp users. All reviews start with 0 \"cool\" votes, and there is no limit to how many \"cool\" votes a review can receive. In other words, it is a rating of the review itself, not a rating of the business.\n",
    "- The \"useful\" and \"funny\" columns are similar to the \"cool\" column."
   ]
  },
  {
   "cell_type": "markdown",
   "metadata": {},
   "source": [
    "## Task 1\n",
    "\n",
    "Read `yelp.csv` into a DataFrame."
   ]
  },
  {
   "cell_type": "code",
   "execution_count": 1,
   "metadata": {
    "collapsed": false
   },
   "outputs": [
    {
     "data": {
      "text/html": [
       "<div>\n",
       "<table border=\"1\" class=\"dataframe\">\n",
       "  <thead>\n",
       "    <tr style=\"text-align: right;\">\n",
       "      <th></th>\n",
       "      <th>business_id</th>\n",
       "      <th>date</th>\n",
       "      <th>review_id</th>\n",
       "      <th>stars</th>\n",
       "      <th>text</th>\n",
       "      <th>type</th>\n",
       "      <th>user_id</th>\n",
       "      <th>cool</th>\n",
       "      <th>useful</th>\n",
       "      <th>funny</th>\n",
       "    </tr>\n",
       "  </thead>\n",
       "  <tbody>\n",
       "    <tr>\n",
       "      <th>0</th>\n",
       "      <td>9yKzy9PApeiPPOUJEtnvkg</td>\n",
       "      <td>2011-01-26</td>\n",
       "      <td>fWKvX83p0-ka4JS3dc6E5A</td>\n",
       "      <td>5</td>\n",
       "      <td>My wife took me here on my birthday for breakf...</td>\n",
       "      <td>review</td>\n",
       "      <td>rLtl8ZkDX5vH5nAx9C3q5Q</td>\n",
       "      <td>2</td>\n",
       "      <td>5</td>\n",
       "      <td>0</td>\n",
       "    </tr>\n",
       "  </tbody>\n",
       "</table>\n",
       "</div>"
      ],
      "text/plain": [
       "              business_id        date               review_id  stars  \\\n",
       "0  9yKzy9PApeiPPOUJEtnvkg  2011-01-26  fWKvX83p0-ka4JS3dc6E5A      5   \n",
       "\n",
       "                                                text    type  \\\n",
       "0  My wife took me here on my birthday for breakf...  review   \n",
       "\n",
       "                  user_id  cool  useful  funny  \n",
       "0  rLtl8ZkDX5vH5nAx9C3q5Q     2       5      0  "
      ]
     },
     "execution_count": 1,
     "metadata": {},
     "output_type": "execute_result"
    }
   ],
   "source": [
    "# access yelp.csv using a relative path\n",
    "import pandas as pd\n",
    "yelp = pd.read_csv('../data/yelp.csv')\n",
    "yelp.head(1)"
   ]
  },
  {
   "cell_type": "markdown",
   "metadata": {},
   "source": [
    "## Task 1 (Bonus)\n",
    "\n",
    "Ignore the `yelp.csv` file, and construct this DataFrame yourself from `yelp.json`. This involves reading the data into Python, decoding the JSON, converting it to a DataFrame, and adding individual columns for each of the vote types."
   ]
  },
  {
   "cell_type": "code",
   "execution_count": 2,
   "metadata": {
    "collapsed": true
   },
   "outputs": [],
   "source": [
    "# read the data from yelp.json into a list of rows\n",
    "# each row is decoded into a dictionary named \"data\" using using json.loads()\n",
    "import json\n",
    "with open('../data/yelp.json', 'rU') as f:\n",
    "    data = [json.loads(row) for row in f]\n",
    "    "
   ]
  },
  {
   "cell_type": "code",
   "execution_count": 3,
   "metadata": {
    "collapsed": false
   },
   "outputs": [
    {
     "data": {
      "text/plain": [
       "{u'business_id': u'9yKzy9PApeiPPOUJEtnvkg',\n",
       " u'date': u'2011-01-26',\n",
       " u'review_id': u'fWKvX83p0-ka4JS3dc6E5A',\n",
       " u'stars': 5,\n",
       " u'text': u'My wife took me here on my birthday for breakfast and it was excellent.  The weather was perfect which made sitting outside overlooking their grounds an absolute pleasure.  Our waitress was excellent and our food arrived quickly on the semi-busy Saturday morning.  It looked like the place fills up pretty quickly so the earlier you get here the better.\\n\\nDo yourself a favor and get their Bloody Mary.  It was phenomenal and simply the best I\\'ve ever had.  I\\'m pretty sure they only use ingredients from their garden and blend them fresh when you order it.  It was amazing.\\n\\nWhile EVERYTHING on the menu looks excellent, I had the white truffle scrambled eggs vegetable skillet and it was tasty and delicious.  It came with 2 pieces of their griddled bread with was amazing and it absolutely made the meal complete.  It was the best \"toast\" I\\'ve ever had.\\n\\nAnyway, I can\\'t wait to go back!',\n",
       " u'type': u'review',\n",
       " u'user_id': u'rLtl8ZkDX5vH5nAx9C3q5Q',\n",
       " u'votes': {u'cool': 2, u'funny': 0, u'useful': 5}}"
      ]
     },
     "execution_count": 3,
     "metadata": {},
     "output_type": "execute_result"
    }
   ],
   "source": [
    "# show the first review\n",
    "data[0]"
   ]
  },
  {
   "cell_type": "code",
   "execution_count": 4,
   "metadata": {
    "collapsed": false
   },
   "outputs": [
    {
     "data": {
      "text/html": [
       "<div>\n",
       "<table border=\"1\" class=\"dataframe\">\n",
       "  <thead>\n",
       "    <tr style=\"text-align: right;\">\n",
       "      <th></th>\n",
       "      <th>business_id</th>\n",
       "      <th>date</th>\n",
       "      <th>review_id</th>\n",
       "      <th>stars</th>\n",
       "      <th>text</th>\n",
       "      <th>type</th>\n",
       "      <th>user_id</th>\n",
       "      <th>votes</th>\n",
       "    </tr>\n",
       "  </thead>\n",
       "  <tbody>\n",
       "    <tr>\n",
       "      <th>0</th>\n",
       "      <td>9yKzy9PApeiPPOUJEtnvkg</td>\n",
       "      <td>2011-01-26</td>\n",
       "      <td>fWKvX83p0-ka4JS3dc6E5A</td>\n",
       "      <td>5</td>\n",
       "      <td>My wife took me here on my birthday for breakf...</td>\n",
       "      <td>review</td>\n",
       "      <td>rLtl8ZkDX5vH5nAx9C3q5Q</td>\n",
       "      <td>{u'funny': 0, u'useful': 5, u'cool': 2}</td>\n",
       "    </tr>\n",
       "    <tr>\n",
       "      <th>1</th>\n",
       "      <td>ZRJwVLyzEJq1VAihDhYiow</td>\n",
       "      <td>2011-07-27</td>\n",
       "      <td>IjZ33sJrzXqU-0X6U8NwyA</td>\n",
       "      <td>5</td>\n",
       "      <td>I have no idea why some people give bad review...</td>\n",
       "      <td>review</td>\n",
       "      <td>0a2KyEL0d3Yb1V6aivbIuQ</td>\n",
       "      <td>{u'funny': 0, u'useful': 0, u'cool': 0}</td>\n",
       "    </tr>\n",
       "  </tbody>\n",
       "</table>\n",
       "</div>"
      ],
      "text/plain": [
       "              business_id        date               review_id  stars  \\\n",
       "0  9yKzy9PApeiPPOUJEtnvkg  2011-01-26  fWKvX83p0-ka4JS3dc6E5A      5   \n",
       "1  ZRJwVLyzEJq1VAihDhYiow  2011-07-27  IjZ33sJrzXqU-0X6U8NwyA      5   \n",
       "\n",
       "                                                text    type  \\\n",
       "0  My wife took me here on my birthday for breakf...  review   \n",
       "1  I have no idea why some people give bad review...  review   \n",
       "\n",
       "                  user_id                                    votes  \n",
       "0  rLtl8ZkDX5vH5nAx9C3q5Q  {u'funny': 0, u'useful': 5, u'cool': 2}  \n",
       "1  0a2KyEL0d3Yb1V6aivbIuQ  {u'funny': 0, u'useful': 0, u'cool': 0}  "
      ]
     },
     "execution_count": 4,
     "metadata": {},
     "output_type": "execute_result"
    }
   ],
   "source": [
    "# convert the list of dictionaries to a DataFrame\n",
    "ydata = pd.DataFrame(data)\n",
    "ydata.head(2)"
   ]
  },
  {
   "cell_type": "code",
   "execution_count": 5,
   "metadata": {
    "collapsed": false
   },
   "outputs": [
    {
     "data": {
      "text/html": [
       "<div>\n",
       "<table border=\"1\" class=\"dataframe\">\n",
       "  <thead>\n",
       "    <tr style=\"text-align: right;\">\n",
       "      <th></th>\n",
       "      <th>business_id</th>\n",
       "      <th>date</th>\n",
       "      <th>review_id</th>\n",
       "      <th>stars</th>\n",
       "      <th>text</th>\n",
       "      <th>type</th>\n",
       "      <th>user_id</th>\n",
       "      <th>votes</th>\n",
       "      <th>cool</th>\n",
       "      <th>funny</th>\n",
       "      <th>useful</th>\n",
       "    </tr>\n",
       "  </thead>\n",
       "  <tbody>\n",
       "    <tr>\n",
       "      <th>0</th>\n",
       "      <td>9yKzy9PApeiPPOUJEtnvkg</td>\n",
       "      <td>2011-01-26</td>\n",
       "      <td>fWKvX83p0-ka4JS3dc6E5A</td>\n",
       "      <td>5</td>\n",
       "      <td>My wife took me here on my birthday for breakf...</td>\n",
       "      <td>review</td>\n",
       "      <td>rLtl8ZkDX5vH5nAx9C3q5Q</td>\n",
       "      <td>{u'funny': 0, u'useful': 5, u'cool': 2}</td>\n",
       "      <td>2</td>\n",
       "      <td>0</td>\n",
       "      <td>5</td>\n",
       "    </tr>\n",
       "    <tr>\n",
       "      <th>1</th>\n",
       "      <td>ZRJwVLyzEJq1VAihDhYiow</td>\n",
       "      <td>2011-07-27</td>\n",
       "      <td>IjZ33sJrzXqU-0X6U8NwyA</td>\n",
       "      <td>5</td>\n",
       "      <td>I have no idea why some people give bad review...</td>\n",
       "      <td>review</td>\n",
       "      <td>0a2KyEL0d3Yb1V6aivbIuQ</td>\n",
       "      <td>{u'funny': 0, u'useful': 0, u'cool': 0}</td>\n",
       "      <td>0</td>\n",
       "      <td>0</td>\n",
       "      <td>0</td>\n",
       "    </tr>\n",
       "  </tbody>\n",
       "</table>\n",
       "</div>"
      ],
      "text/plain": [
       "              business_id        date               review_id  stars  \\\n",
       "0  9yKzy9PApeiPPOUJEtnvkg  2011-01-26  fWKvX83p0-ka4JS3dc6E5A      5   \n",
       "1  ZRJwVLyzEJq1VAihDhYiow  2011-07-27  IjZ33sJrzXqU-0X6U8NwyA      5   \n",
       "\n",
       "                                                text    type  \\\n",
       "0  My wife took me here on my birthday for breakf...  review   \n",
       "1  I have no idea why some people give bad review...  review   \n",
       "\n",
       "                  user_id                                    votes  cool  \\\n",
       "0  rLtl8ZkDX5vH5nAx9C3q5Q  {u'funny': 0, u'useful': 5, u'cool': 2}     2   \n",
       "1  0a2KyEL0d3Yb1V6aivbIuQ  {u'funny': 0, u'useful': 0, u'cool': 0}     0   \n",
       "\n",
       "   funny  useful  \n",
       "0      0       5  \n",
       "1      0       0  "
      ]
     },
     "execution_count": 5,
     "metadata": {},
     "output_type": "execute_result"
    }
   ],
   "source": [
    "# add DataFrame columns for cool, useful, and funny\n",
    "x = pd.DataFrame.from_records(ydata.votes)\n",
    "ydata= pd.concat([ydata, x], axis=1)\n",
    "ydata.head(2)"
   ]
  },
  {
   "cell_type": "code",
   "execution_count": 6,
   "metadata": {
    "collapsed": false
   },
   "outputs": [
    {
     "data": {
      "text/html": [
       "<div>\n",
       "<table border=\"1\" class=\"dataframe\">\n",
       "  <thead>\n",
       "    <tr style=\"text-align: right;\">\n",
       "      <th></th>\n",
       "      <th>business_id</th>\n",
       "      <th>date</th>\n",
       "      <th>review_id</th>\n",
       "      <th>stars</th>\n",
       "      <th>text</th>\n",
       "      <th>type</th>\n",
       "      <th>user_id</th>\n",
       "      <th>cool</th>\n",
       "      <th>funny</th>\n",
       "      <th>useful</th>\n",
       "    </tr>\n",
       "  </thead>\n",
       "  <tbody>\n",
       "    <tr>\n",
       "      <th>0</th>\n",
       "      <td>9yKzy9PApeiPPOUJEtnvkg</td>\n",
       "      <td>2011-01-26</td>\n",
       "      <td>fWKvX83p0-ka4JS3dc6E5A</td>\n",
       "      <td>5</td>\n",
       "      <td>My wife took me here on my birthday for breakf...</td>\n",
       "      <td>review</td>\n",
       "      <td>rLtl8ZkDX5vH5nAx9C3q5Q</td>\n",
       "      <td>2</td>\n",
       "      <td>0</td>\n",
       "      <td>5</td>\n",
       "    </tr>\n",
       "    <tr>\n",
       "      <th>1</th>\n",
       "      <td>ZRJwVLyzEJq1VAihDhYiow</td>\n",
       "      <td>2011-07-27</td>\n",
       "      <td>IjZ33sJrzXqU-0X6U8NwyA</td>\n",
       "      <td>5</td>\n",
       "      <td>I have no idea why some people give bad review...</td>\n",
       "      <td>review</td>\n",
       "      <td>0a2KyEL0d3Yb1V6aivbIuQ</td>\n",
       "      <td>0</td>\n",
       "      <td>0</td>\n",
       "      <td>0</td>\n",
       "    </tr>\n",
       "  </tbody>\n",
       "</table>\n",
       "</div>"
      ],
      "text/plain": [
       "              business_id        date               review_id  stars  \\\n",
       "0  9yKzy9PApeiPPOUJEtnvkg  2011-01-26  fWKvX83p0-ka4JS3dc6E5A      5   \n",
       "1  ZRJwVLyzEJq1VAihDhYiow  2011-07-27  IjZ33sJrzXqU-0X6U8NwyA      5   \n",
       "\n",
       "                                                text    type  \\\n",
       "0  My wife took me here on my birthday for breakf...  review   \n",
       "1  I have no idea why some people give bad review...  review   \n",
       "\n",
       "                  user_id  cool  funny  useful  \n",
       "0  rLtl8ZkDX5vH5nAx9C3q5Q     2      0       5  \n",
       "1  0a2KyEL0d3Yb1V6aivbIuQ     0      0       0  "
      ]
     },
     "execution_count": 6,
     "metadata": {},
     "output_type": "execute_result"
    }
   ],
   "source": [
    "# drop the votes column and then display the head\n",
    "ydata.drop(\"votes\", axis=1, inplace=True)\n",
    "ydata.head(2)"
   ]
  },
  {
   "cell_type": "markdown",
   "metadata": {},
   "source": [
    "## Task 2\n",
    "\n",
    "Explore the relationship between each of the vote types (cool/useful/funny) and the number of stars."
   ]
  },
  {
   "cell_type": "code",
   "execution_count": 7,
   "metadata": {
    "collapsed": false
   },
   "outputs": [
    {
     "data": {
      "text/html": [
       "<div>\n",
       "<table border=\"1\" class=\"dataframe\">\n",
       "  <thead>\n",
       "    <tr style=\"text-align: right;\">\n",
       "      <th>stars</th>\n",
       "      <th>1</th>\n",
       "      <th>2</th>\n",
       "      <th>3</th>\n",
       "      <th>4</th>\n",
       "      <th>5</th>\n",
       "    </tr>\n",
       "  </thead>\n",
       "  <tbody>\n",
       "    <tr>\n",
       "      <th>cool</th>\n",
       "      <td>0.576769</td>\n",
       "      <td>0.719525</td>\n",
       "      <td>0.788501</td>\n",
       "      <td>0.954623</td>\n",
       "      <td>0.944261</td>\n",
       "    </tr>\n",
       "    <tr>\n",
       "      <th>funny</th>\n",
       "      <td>1.056075</td>\n",
       "      <td>0.875944</td>\n",
       "      <td>0.694730</td>\n",
       "      <td>0.670448</td>\n",
       "      <td>0.608631</td>\n",
       "    </tr>\n",
       "    <tr>\n",
       "      <th>useful</th>\n",
       "      <td>1.604806</td>\n",
       "      <td>1.563107</td>\n",
       "      <td>1.306639</td>\n",
       "      <td>1.395916</td>\n",
       "      <td>1.381780</td>\n",
       "    </tr>\n",
       "  </tbody>\n",
       "</table>\n",
       "</div>"
      ],
      "text/plain": [
       "stars          1         2         3         4         5\n",
       "cool    0.576769  0.719525  0.788501  0.954623  0.944261\n",
       "funny   1.056075  0.875944  0.694730  0.670448  0.608631\n",
       "useful  1.604806  1.563107  1.306639  1.395916  1.381780"
      ]
     },
     "execution_count": 7,
     "metadata": {},
     "output_type": "execute_result"
    }
   ],
   "source": [
    "# treat stars as a categorical variable and look for differences between groups by comparing the means of the groups\n",
    "ydata.groupby(['stars'])['cool','funny','useful'].mean().T"
   ]
  },
  {
   "cell_type": "code",
   "execution_count": 8,
   "metadata": {
    "collapsed": false
   },
   "outputs": [
    {
     "data": {
      "text/plain": [
       "<matplotlib.axes._subplots.AxesSubplot at 0x11ac5d8d0>"
      ]
     },
     "execution_count": 8,
     "metadata": {},
     "output_type": "execute_result"
    },
    {
     "data": {
      "image/png": "[encoded data removed]",
      "text/plain": [
       "<matplotlib.figure.Figure at 0x11ac5d110>"
      ]
     },
     "metadata": {},
     "output_type": "display_data"
    }
   ],
   "source": [
    "# display acorrelation matrix of the vote types (cool/useful/funny) and stars\n",
    "%matplotlib inline\n",
    "import seaborn as sns\n",
    "sns.heatmap(yelp.corr())"
   ]
  },
  {
   "cell_type": "code",
   "execution_count": 9,
   "metadata": {
    "collapsed": false
   },
   "outputs": [
    {
     "data": {
      "text/plain": [
       "<seaborn.axisgrid.PairGrid at 0x11db6c150>"
      ]
     },
     "execution_count": 9,
     "metadata": {},
     "output_type": "execute_result"
    },
    {
     "data": {
      "image/png": "[encoded data removed]",
      "text/plain": [
       "<matplotlib.figure.Figure at 0x11db6cb10>"
      ]
     },
     "metadata": {},
     "output_type": "display_data"
    }
   ],
   "source": [
    "# display multiple scatter plots (cool, useful, funny) with linear regression line\n",
    "feat_cols = ['cool', 'useful', 'funny']\n",
    "sns.pairplot(ydata, x_vars=feat_cols, y_vars='stars', kind='reg', size=5)"
   ]
  },
  {
   "cell_type": "markdown",
   "metadata": {},
   "source": [
    "## Task 3\n",
    "\n",
    "Define cool/useful/funny as the feature matrix X, and stars as the response vector y."
   ]
  },
  {
   "cell_type": "code",
   "execution_count": 10,
   "metadata": {
    "collapsed": false
   },
   "outputs": [],
   "source": [
    "X = ydata[['cool', 'useful', 'funny']]\n",
    "y = ydata['stars']\n",
    "\n"
   ]
  },
  {
   "cell_type": "markdown",
   "metadata": {},
   "source": [
    "## Task 4\n",
    "\n",
    "Fit a linear regression model and interpret the coefficients. Do the coefficients make intuitive sense to you? Explore the Yelp website to see if you detect similar trends."
   ]
  },
  {
   "cell_type": "code",
   "execution_count": 11,
   "metadata": {
    "collapsed": false
   },
   "outputs": [
    {
     "name": "stdout",
     "output_type": "stream",
     "text": [
      "3.83989479278\n",
      "[ 0.27435947 -0.14745239 -0.13567449]\n"
     ]
    },
    {
     "data": {
      "text/plain": [
       "[(u'cool', 0.27435946858853977),\n",
       " (u'useful', -0.14745239099401466),\n",
       " (u'funny', -0.13567449053706701)]"
      ]
     },
     "execution_count": 11,
     "metadata": {},
     "output_type": "execute_result"
    }
   ],
   "source": [
    "from sklearn.linear_model import LinearRegression\n",
    "lr = LinearRegression()\n",
    "lr.fit(X, y)\n",
    "\n",
    "# print the coefficients\n",
    "print lr.intercept_\n",
    "print lr.coef_\n",
    "zip(X, lr.coef_)"
   ]
  },
  {
   "cell_type": "markdown",
   "metadata": {},
   "source": [
    "## Task 5\n",
    "\n",
    "Evaluate the model by splitting it into training and testing sets and computing the RMSE. Does the RMSE make intuitive sense to you?"
   ]
  },
  {
   "cell_type": "code",
   "execution_count": 12,
   "metadata": {
    "collapsed": true
   },
   "outputs": [],
   "source": [
    "from sklearn.cross_validation import train_test_split\n",
    "from sklearn import metrics\n",
    "import numpy as np"
   ]
  },
  {
   "cell_type": "code",
   "execution_count": 13,
   "metadata": {
    "collapsed": false
   },
   "outputs": [
    {
     "data": {
      "text/plain": [
       "[      cool  useful  funny\n",
       " 9174     1       2      1\n",
       " 4379     1       2      1\n",
       " 541      0       0      0\n",
       " 7251     0       0      0\n",
       " 1135     7       8     10\n",
       " 9978     0       1      0\n",
       " 3536     2       1      1\n",
       " 5891     0       0      0\n",
       " 3906     3       3      2\n",
       " 4348     0       1      0\n",
       " 889      0       0      0\n",
       " 3927     0       0      0\n",
       " 2017     1       1      0\n",
       " 2497     0       0      0\n",
       " 3779     2       1      0\n",
       " 7652     2       3      1\n",
       " 7513     1       2      1\n",
       " 8765     0       0      0\n",
       " 5234     0       0      0\n",
       " 2995     0       1      0\n",
       " 2350     1       1      1\n",
       " 466      0       0      0\n",
       " 5758     2       3      1\n",
       " 1299     0       0      0\n",
       " 9717     0       0      0\n",
       " 9256     0       0      0\n",
       " 4109     0       1      0\n",
       " 2092     0       0      0\n",
       " 3628     1       3      3\n",
       " 1057     0       0      0\n",
       " ...    ...     ...    ...\n",
       " 7344     0       0      0\n",
       " 6077     0       0      0\n",
       " 6648     0       0      0\n",
       " 6740     0       0      0\n",
       " 9998     0       0      0\n",
       " 39       1       1      0\n",
       " 6484     1       1      1\n",
       " 1847     0       1      0\n",
       " 7985     0       0      0\n",
       " 1092     0       0      0\n",
       " 3325     2       1      1\n",
       " 2894     6       5      4\n",
       " 1363     0       1      0\n",
       " 3481     0       0      0\n",
       " 111      0       2      0\n",
       " 6368     0       1      0\n",
       " 942      0       1      0\n",
       " 5664     0       1      1\n",
       " 4169     0       0      0\n",
       " 4143     0       1      0\n",
       " 6782     0       1      0\n",
       " 6257     0       0      0\n",
       " 96       1       1      0\n",
       " 5857     0       0      0\n",
       " 7382     0       0      0\n",
       " 9785     0       0      0\n",
       " 7763     0       0      0\n",
       " 5218     0       0      0\n",
       " 1346     0       0      0\n",
       " 3582     1       1      1\n",
       " \n",
       " [7500 rows x 3 columns],       cool  useful  funny\n",
       " 2656     0       0      0\n",
       " 445      2       2      0\n",
       " 9505     0       0      0\n",
       " 332      0       1      0\n",
       " 4168     0       0      0\n",
       " 2364     1       1      0\n",
       " 6097     1       2      0\n",
       " 7        0       1      0\n",
       " 7752     1       2      1\n",
       " 4453     0       0      0\n",
       " 4743     0       2      1\n",
       " 6243     0       0      0\n",
       " 3126     0       1      0\n",
       " 4056     0       1      0\n",
       " 5852     0       0      0\n",
       " 628      0       0      0\n",
       " 8545     0       2      0\n",
       " 2481     0       1      0\n",
       " 9743     2       2      0\n",
       " 1335     0       0      0\n",
       " 2683     1       2      0\n",
       " 4566     0       1      0\n",
       " 2514     1       1      0\n",
       " 9353     0       0      0\n",
       " 1907     0       0      0\n",
       " 2802     1       1      1\n",
       " 6890     0       0      0\n",
       " 784      0       0      0\n",
       " 9489     4       5      8\n",
       " 6893     0       1      0\n",
       " ...    ...     ...    ...\n",
       " 4649     1       5      1\n",
       " 3645     1       0      0\n",
       " 9751     0       1      0\n",
       " 4129     1       1      0\n",
       " 9561     0       1      0\n",
       " 7183     0       1      1\n",
       " 1479     0       0      0\n",
       " 2109     0       1      0\n",
       " 6523     0       1      0\n",
       " 9912     1       2      0\n",
       " 6474     1       2      1\n",
       " 2069     1       1      0\n",
       " 4026     1       2      1\n",
       " 8740     0       1      1\n",
       " 7827     1       2      1\n",
       " 4613     0       1      0\n",
       " 3516     9       8      6\n",
       " 8400     1       5      1\n",
       " 2322     0       0      1\n",
       " 582      6       8      2\n",
       " 8951     0       1      0\n",
       " 5153     0       0      0\n",
       " 1667     2       3      5\n",
       " 1516     0       0      0\n",
       " 4990     0       2      0\n",
       " 397      1       1      0\n",
       " 5552     2       2      1\n",
       " 1453     4       5      2\n",
       " 4469     0       0      0\n",
       " 2413     0       0      0\n",
       " \n",
       " [2500 rows x 3 columns], 9174    4\n",
       " 4379    4\n",
       " 541     4\n",
       " 7251    5\n",
       " 1135    4\n",
       " 9978    5\n",
       " 3536    3\n",
       " 5891    3\n",
       " 3906    4\n",
       " 4348    4\n",
       " 889     3\n",
       " 3927    4\n",
       " 2017    4\n",
       " 2497    4\n",
       " 3779    4\n",
       " 7652    4\n",
       " 7513    1\n",
       " 8765    5\n",
       " 5234    4\n",
       " 2995    1\n",
       " 2350    4\n",
       " 466     4\n",
       " 5758    4\n",
       " 1299    1\n",
       " 9717    3\n",
       " 9256    5\n",
       " 4109    2\n",
       " 2092    4\n",
       " 3628    1\n",
       " 1057    5\n",
       "        ..\n",
       " 7344    5\n",
       " 6077    4\n",
       " 6648    1\n",
       " 6740    5\n",
       " 9998    2\n",
       " 39      4\n",
       " 6484    4\n",
       " 1847    4\n",
       " 7985    4\n",
       " 1092    4\n",
       " 3325    4\n",
       " 2894    4\n",
       " 1363    5\n",
       " 3481    3\n",
       " 111     5\n",
       " 6368    4\n",
       " 942     1\n",
       " 5664    4\n",
       " 4169    2\n",
       " 4143    5\n",
       " 6782    5\n",
       " 6257    5\n",
       " 96      4\n",
       " 5857    3\n",
       " 7382    1\n",
       " 9785    5\n",
       " 7763    4\n",
       " 5218    2\n",
       " 1346    3\n",
       " 3582    4\n",
       " Name: stars, dtype: int64, 2656    3\n",
       " 445     5\n",
       " 9505    4\n",
       " 332     2\n",
       " 4168    4\n",
       " 2364    4\n",
       " 6097    5\n",
       " 7       4\n",
       " 7752    4\n",
       " 4453    4\n",
       " 4743    1\n",
       " 6243    5\n",
       " 3126    5\n",
       " 4056    3\n",
       " 5852    2\n",
       " 628     4\n",
       " 8545    1\n",
       " 2481    3\n",
       " 9743    3\n",
       " 1335    4\n",
       " 2683    5\n",
       " 4566    5\n",
       " 2514    2\n",
       " 9353    5\n",
       " 1907    4\n",
       " 2802    4\n",
       " 6890    3\n",
       " 784     5\n",
       " 9489    5\n",
       " 6893    4\n",
       "        ..\n",
       " 4649    4\n",
       " 3645    5\n",
       " 9751    2\n",
       " 4129    5\n",
       " 9561    5\n",
       " 7183    2\n",
       " 1479    5\n",
       " 2109    4\n",
       " 6523    2\n",
       " 9912    4\n",
       " 6474    4\n",
       " 2069    3\n",
       " 4026    4\n",
       " 8740    4\n",
       " 7827    1\n",
       " 4613    5\n",
       " 3516    5\n",
       " 8400    3\n",
       " 2322    5\n",
       " 582     4\n",
       " 8951    4\n",
       " 5153    2\n",
       " 1667    1\n",
       " 1516    4\n",
       " 4990    3\n",
       " 397     3\n",
       " 5552    4\n",
       " 1453    4\n",
       " 4469    4\n",
       " 2413    5\n",
       " Name: stars, dtype: int64]"
      ]
     },
     "execution_count": 13,
     "metadata": {},
     "output_type": "execute_result"
    }
   ],
   "source": [
    "# define a function that accepts a list of features and returns testing RMSE\n",
    "# define a function that accepts a list of features and returns testing RMSE\n",
    "def train_test_rmse(feat_cols):\n",
    "    X = ydata[feat_cols]\n",
    "    y = ydata.stars\n",
    "    X_train, X_test, y_train, y_test = train_test_split(X, y, random_state=123)\n",
    "    linreg = LinearRegression()\n",
    "    linreg.fit(X_train, y_train)\n",
    "    y_pred = linreg.predict(X_test)\n",
    "    return np.sqrt(metrics.mean_squared_error(y_test, y_pred))\n",
    "\n",
    "train_test_split(X, y, random_state=123)"
   ]
  },
  {
   "cell_type": "code",
   "execution_count": 14,
   "metadata": {
    "collapsed": false
   },
   "outputs": [
    {
     "name": "stdout",
     "output_type": "stream",
     "text": [
      "1.17336862742\n"
     ]
    }
   ],
   "source": [
    "# calculate RMSE with all three features\n",
    "print train_test_rmse(['cool', 'funny', 'useful'])\n"
   ]
  },
  {
   "cell_type": "markdown",
   "metadata": {},
   "source": [
    "## Task 6\n",
    "\n",
    "Try removing some of the features and see if the RMSE improves."
   ]
  },
  {
   "cell_type": "code",
   "execution_count": 15,
   "metadata": {
    "collapsed": false
   },
   "outputs": [
    {
     "name": "stdout",
     "output_type": "stream",
     "text": [
      "1.17336862742\n",
      "1.1851949299\n",
      "1.20049049928\n"
     ]
    }
   ],
   "source": [
    "print train_test_rmse(['cool', 'funny', 'useful'])\n",
    "print train_test_rmse(['cool', 'funny'])\n",
    "print train_test_rmse(['cool'])\n",
    "\n",
    "### RMSE is best with all 3 features\n"
   ]
  },
  {
   "cell_type": "markdown",
   "metadata": {},
   "source": [
    "## Task 7 (Bonus)\n",
    "\n",
    "Think of some new features you could create from the existing data that might be predictive of the response. Figure out how to create those features in Pandas, add them to your model, and see if the RMSE improves."
   ]
  },
  {
   "cell_type": "code",
   "execution_count": 19,
   "metadata": {
    "collapsed": false
   },
   "outputs": [],
   "source": [
    "# new feature: Number of reviews per business_id. More reviews = more favored by reviewer? \n",
    "# Adding # of occurs for business_id\n",
    "ydata['review_freq']= ydata.groupby(['business_id'])['stars'].transform('count')\n",
    "\n"
   ]
  },
  {
   "cell_type": "code",
   "execution_count": 20,
   "metadata": {
    "collapsed": true
   },
   "outputs": [],
   "source": [
    "# new features: \n",
    "# add 0 if occurs < 4 or 1 if >= 4\n",
    "ydata[\"favored\"] = [1 if x > 3 else 0 for x in ydata.review_freq]\n"
   ]
  },
  {
   "cell_type": "code",
   "execution_count": 23,
   "metadata": {
    "collapsed": false
   },
   "outputs": [
    {
     "name": "stdout",
     "output_type": "stream",
     "text": [
      "1.16823194233\n"
     ]
    }
   ],
   "source": [
    "# add new features to the model and calculate RMSE\n",
    "print train_test_rmse(['cool', 'funny', 'useful','review_freq'])\n"
   ]
  },
  {
   "cell_type": "markdown",
   "metadata": {},
   "source": [
    "## Task 8 (Bonus)\n",
    "\n",
    "Compare your best RMSE on the testing set with the RMSE for the \"null model\", which is the model that ignores all features and simply predicts the mean response value in the testing set."
   ]
  },
  {
   "cell_type": "code",
   "execution_count": 24,
   "metadata": {
    "collapsed": false
   },
   "outputs": [
    {
     "data": {
      "text/plain": [
       "array([ 3.7808,  3.7808,  3.7808, ...,  3.7808,  3.7808,  3.7808])"
      ]
     },
     "execution_count": 24,
     "metadata": {},
     "output_type": "execute_result"
    }
   ],
   "source": [
    "X_train, X_test, y_train, y_test = train_test_split(X, y, random_state=123)\n",
    "\n",
    "# create a NumPy array with the same shape as y_test\n",
    "y_null = np.zeros_like(y_test, dtype=float)\n",
    "\n",
    "# fill the array with the mean value of y_test\n",
    "y_null.fill(y_test.mean())\n",
    "y_null\n"
   ]
  },
  {
   "cell_type": "code",
   "execution_count": 25,
   "metadata": {
    "collapsed": false
   },
   "outputs": [
    {
     "data": {
      "text/plain": [
       "1.2019781029619465"
      ]
     },
     "execution_count": 25,
     "metadata": {},
     "output_type": "execute_result"
    }
   ],
   "source": [
    "np.sqrt(metrics.mean_squared_error(y_test, y_null))"
   ]
  },
  {
   "cell_type": "markdown",
   "metadata": {},
   "source": [
    "NUll model worse than slight;y improved model with added features from task 7"
   ]
  }
 ],
 "metadata": {
  "anaconda-cloud": {},
  "kernelspec": {
   "display_name": "Python [Root]",
   "language": "python",
   "name": "Python [Root]"
  },
  "language_info": {
   "codemirror_mode": {
    "name": "ipython",
    "version": 2
   },
   "file_extension": ".py",
   "mimetype": "text/x-python",
   "name": "python",
   "nbconvert_exporter": "python",
   "pygments_lexer": "ipython2",
   "version": "2.7.12"
  }
 },
 "nbformat": 4,
 "nbformat_minor": 0
}
