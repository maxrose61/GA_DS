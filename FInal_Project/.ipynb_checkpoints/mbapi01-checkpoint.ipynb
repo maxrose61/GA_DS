{
 "cells": [
  {
   "cell_type": "code",
   "execution_count": 1,
   "metadata": {
    "collapsed": true
   },
   "outputs": [],
   "source": [
    "\n",
    "import pandas as pd\n",
    "import numpy as np\n",
    "import json\n",
    "from pandas.io.json import json_normalize\n",
    "import requests\n",
    "from lxml import objectify\n",
    "\n",
    "d = requests.get('http://musicbrainz.org/ws/2/recording/?query=arid:b071f9fa-14b0-4217-8e97-eb41da73f598&fmt=json')\n",
    "df = pd.read_json('http://musicbrainz.org/ws/2/recording/?query=arid:b071f9fa-14b0-4217-8e97-eb41da73f598&fmt=json')\n"
   ]
  },
  {
   "cell_type": "code",
   "execution_count": 12,
   "metadata": {
    "collapsed": false
   },
   "outputs": [],
   "source": [
    "rec = pd.DataFrame.from_dict(df.recordings)\n"
   ]
  },
  {
   "cell_type": "code",
   "execution_count": 16,
   "metadata": {
    "collapsed": false,
    "scrolled": true
   },
   "outputs": [
    {
     "ename": "AttributeError",
     "evalue": "'Series' object has no attribute 'artist'",
     "output_type": "error",
     "traceback": [
      "\u001b[0;31m---------------------------------------------------------------------------\u001b[0m",
      "\u001b[0;31mAttributeError\u001b[0m                            Traceback (most recent call last)",
      "\u001b[0;32m<ipython-input-16-ea1205cebd46>\u001b[0m in \u001b[0;36m<module>\u001b[0;34m()\u001b[0m\n\u001b[0;32m----> 1\u001b[0;31m \u001b[0mrec\u001b[0m\u001b[0;34m.\u001b[0m\u001b[0miloc\u001b[0m\u001b[0;34m[\u001b[0m\u001b[0;36m2\u001b[0m\u001b[0;34m]\u001b[0m\u001b[0;34m.\u001b[0m\u001b[0martist\u001b[0m\u001b[0;34m\u001b[0m\u001b[0m\n\u001b[0m",
      "\u001b[0;32m/Users/maxrose/anaconda/lib/python2.7/site-packages/pandas/core/generic.pyc\u001b[0m in \u001b[0;36m__getattr__\u001b[0;34m(self, name)\u001b[0m\n\u001b[1;32m   2670\u001b[0m             \u001b[0;32mif\u001b[0m \u001b[0mname\u001b[0m \u001b[0;32min\u001b[0m \u001b[0mself\u001b[0m\u001b[0;34m.\u001b[0m\u001b[0m_info_axis\u001b[0m\u001b[0;34m:\u001b[0m\u001b[0;34m\u001b[0m\u001b[0m\n\u001b[1;32m   2671\u001b[0m                 \u001b[0;32mreturn\u001b[0m \u001b[0mself\u001b[0m\u001b[0;34m[\u001b[0m\u001b[0mname\u001b[0m\u001b[0;34m]\u001b[0m\u001b[0;34m\u001b[0m\u001b[0m\n\u001b[0;32m-> 2672\u001b[0;31m             \u001b[0;32mreturn\u001b[0m \u001b[0mobject\u001b[0m\u001b[0;34m.\u001b[0m\u001b[0m__getattribute__\u001b[0m\u001b[0;34m(\u001b[0m\u001b[0mself\u001b[0m\u001b[0;34m,\u001b[0m \u001b[0mname\u001b[0m\u001b[0;34m)\u001b[0m\u001b[0;34m\u001b[0m\u001b[0m\n\u001b[0m\u001b[1;32m   2673\u001b[0m \u001b[0;34m\u001b[0m\u001b[0m\n\u001b[1;32m   2674\u001b[0m     \u001b[0;32mdef\u001b[0m \u001b[0m__setattr__\u001b[0m\u001b[0;34m(\u001b[0m\u001b[0mself\u001b[0m\u001b[0;34m,\u001b[0m \u001b[0mname\u001b[0m\u001b[0;34m,\u001b[0m \u001b[0mvalue\u001b[0m\u001b[0;34m)\u001b[0m\u001b[0;34m:\u001b[0m\u001b[0;34m\u001b[0m\u001b[0m\n",
      "\u001b[0;31mAttributeError\u001b[0m: 'Series' object has no attribute 'artist'"
     ]
    }
   ],
   "source": [
    "rec.iloc[2]"
   ]
  },
  {
   "cell_type": "code",
   "execution_count": 2,
   "metadata": {
    "collapsed": false
   },
   "outputs": [
    {
     "data": {
      "text/plain": [
       "[<Element {http://musicbrainz.org/ns/mmd-2.0#}recording at 0x118195440>,\n",
       " <Element {http://musicbrainz.org/ns/mmd-2.0#}recording at 0x118195320>,\n",
       " <Element {http://musicbrainz.org/ns/mmd-2.0#}recording at 0x118195248>,\n",
       " <Element {http://musicbrainz.org/ns/mmd-2.0#}recording at 0x118195200>,\n",
       " <Element {http://musicbrainz.org/ns/mmd-2.0#}recording at 0x118195170>,\n",
       " <Element {http://musicbrainz.org/ns/mmd-2.0#}recording at 0x1181950e0>,\n",
       " <Element {http://musicbrainz.org/ns/mmd-2.0#}recording at 0x1181951b8>,\n",
       " <Element {http://musicbrainz.org/ns/mmd-2.0#}recording at 0x118195950>,\n",
       " <Element {http://musicbrainz.org/ns/mmd-2.0#}recording at 0x118195680>,\n",
       " <Element {http://musicbrainz.org/ns/mmd-2.0#}recording at 0x118195560>,\n",
       " <Element {http://musicbrainz.org/ns/mmd-2.0#}recording at 0x118195998>,\n",
       " <Element {http://musicbrainz.org/ns/mmd-2.0#}recording at 0x118195fc8>,\n",
       " <Element {http://musicbrainz.org/ns/mmd-2.0#}recording at 0x1181a2050>,\n",
       " <Element {http://musicbrainz.org/ns/mmd-2.0#}recording at 0x1181a2098>,\n",
       " <Element {http://musicbrainz.org/ns/mmd-2.0#}recording at 0x1181a20e0>,\n",
       " <Element {http://musicbrainz.org/ns/mmd-2.0#}recording at 0x1181a2128>,\n",
       " <Element {http://musicbrainz.org/ns/mmd-2.0#}recording at 0x1181a2170>,\n",
       " <Element {http://musicbrainz.org/ns/mmd-2.0#}recording at 0x1181a21b8>,\n",
       " <Element {http://musicbrainz.org/ns/mmd-2.0#}recording at 0x1181a2200>,\n",
       " <Element {http://musicbrainz.org/ns/mmd-2.0#}recording at 0x1181a2248>,\n",
       " <Element {http://musicbrainz.org/ns/mmd-2.0#}recording at 0x1181a2290>,\n",
       " <Element {http://musicbrainz.org/ns/mmd-2.0#}recording at 0x1181a22d8>,\n",
       " <Element {http://musicbrainz.org/ns/mmd-2.0#}recording at 0x1181a2320>,\n",
       " <Element {http://musicbrainz.org/ns/mmd-2.0#}recording at 0x1181a2368>,\n",
       " <Element {http://musicbrainz.org/ns/mmd-2.0#}recording at 0x1181a23b0>]"
      ]
     },
     "execution_count": 2,
     "metadata": {},
     "output_type": "execute_result"
    }
   ],
   "source": [
    "path = 'recording.xml'\n",
    "xml = objectify.parse(open(path))\n",
    "root = xml.getroot()\n",
    "root.getchildren()[0].getchildren()"
   ]
  },
  {
   "cell_type": "code",
   "execution_count": null,
   "metadata": {
    "collapsed": true
   },
   "outputs": [],
   "source": []
  }
 ],
 "metadata": {
  "anaconda-cloud": {},
  "kernelspec": {
   "display_name": "Python [Root]",
   "language": "python",
   "name": "Python [Root]"
  },
  "language_info": {
   "codemirror_mode": {
    "name": "ipython",
    "version": 2
   },
   "file_extension": ".py",
   "mimetype": "text/x-python",
   "name": "python",
   "nbconvert_exporter": "python",
   "pygments_lexer": "ipython2",
   "version": "2.7.12"
  }
 },
 "nbformat": 4,
 "nbformat_minor": 0
}
