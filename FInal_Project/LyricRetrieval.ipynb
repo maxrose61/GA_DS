{
 "cells": [
  {
   "cell_type": "code",
   "execution_count": 167,
   "metadata": {
    "collapsed": false
   },
   "outputs": [],
   "source": [
    "# encoding: utf-8\n",
    "import requests as req\n",
    "from bs4 import BeautifulSoup, SoupStrainer\n",
    "import urllib as ulib\n",
    "only_lyrics = SoupStrainer('div',class_='lyricbox')"
   ]
  },
  {
   "cell_type": "code",
   "execution_count": 171,
   "metadata": {
    "collapsed": false
   },
   "outputs": [],
   "source": [
    "#tUrl = 'http://lyrics.wikia.com/wiki/Beatles:please please me'\n",
    "lyrics = []\n",
    "songs = ['Ob-La-Di, Ob-La-Da','I\\'ve Got a Feeling']\n",
    "artist = ['The Beatles']\n",
    "baseurl = 'http://lyrics.wikia.com/wiki/'\n",
    "for song in songs:\n",
    "    #print ulib.quote(song, safe='')\n",
    "    tUrl = \"%s%s:%s\" %(baseurl,artist[0],ulib.quote(song, safe=''))\n",
    "    result = req.get(tUrl)\n",
    "    lyric = BeautifulSoup(result.text, 'html.parser', parse_only=only_lyrics).get_text(' ',strip=True)\n",
    "    lyrics.append([artist[0], song, lyric])"
   ]
  },
  {
   "cell_type": "code",
   "execution_count": 172,
   "metadata": {
    "collapsed": false
   },
   "outputs": [
    {
     "data": {
      "text/plain": [
       "[['The Beatles',\n",
       "  'Ob-La-Di, Ob-La-Da',\n",
       "  u'Desmond has a barrow at the marketplace Molly is the singer in a band Desmond says to Molly, \"Girl, I like your face\" And Molly says this as she takes him by the hand Ob-la-di, ob-la-da Life goes on, bra La-la, how the life goes on Ob-la-di, ob-la-da Life goes on, bra La-la, how the life goes on Desmond takes a trolley to the jeweler\\'s store Buys a twenty carat golden ring (rin-ring) Takes it back to Molly waiting at the door And as he gives it to her she begins to sing (sing) Ob-la-di, ob-la-da (la-la-la-la la-la-) Life goes on, bra (la-la la-la-la-laaa) La-la, how the life goes on Ob-la-di, ob-la-da (la-la-la-la la-la-) Life goes on, bra (la-la la-la-la-laaa) La-la, how the life goes on Yeah In a couple of years They have built a home sweet home With a couple of kids running in the yard Of Desmond and Molly Jones (ha ha ha ha) Happy ever after in the market place Desmond lets the children lend a hand (arm!) (leg!) Molly stays at home and does her pretty face And in the evening she still sings it with the band Yes! Ob-la-di, ob-la-da Life goes on, bra La-la, how the life goes on Hey! Ob-la-di, ob-la-da Life goes on, bra La-la, how the life goes on In a couple of years They have built a home sweet home (home: H-O-M-E) With a couple of kids running in the yard Of Desmond and Molly Jones (ha ha ha ha ha ha ha) Hey! Happy ever after in the market place Molly lets the children lend a hand (foot!) Desmond stays at home and does his pretty face And in the evening she\\'s a singer with the band Yeah! Ob-la-di, ob-la-da Life goes on, bra La-la, how the life goes on Hey! Ob-la-di, ob-la-da Life goes on, bra La-la, how the life goes on (ha ha ha ha) And if you want some fun (ha ha ha ha ha ha ha) Take Ob-la-di-bla-da (ha ha ha ha ha ha ha ha) (ha ha ha ha) Ahh... Thank you (ha ha)'],\n",
       " ['The Beatles',\n",
       "  \"I've Got a Feeling\",\n",
       "  u\"I've got a feeling A feeling deep inside Oh, yeah (Oh, yeah) (That's right) I've got a feeling A feeling I can't hide Oh, no, no Oh, no! Oh, no Yeah Yeah I've got a feeling Yeah Ooh Oh, please believe me I'd hate to miss the train Oh, yeah (yeah) Oh, yeah! And if you leave me I won't be late again Oh, no Oh, no! Oh, no Yeah, yeah I've got a feeling Yeah I got a feeling All these years I've been wandering around Wondering how come nobody told me All that I was looking for was somebody Who looked like you I've got a feeling That keeps me on my toes Oh, yeah (Oh, yeah) I've got a feeling I think that everybody knows Oh, yeah (Oh, yeah) Oh, yeah Yeah, yeah I have got a feeling Yeah (Yeah) Everybody had a hard year Everybody had a good time Everybody had a wet dream Everybody saw the sun shine Oh, yeah (oh, yeah) Oh, yeah Oh, yeah (Yeah) Everybody had a good year Everybody let their hair down Everybody pulled their socks up (yeah?) Everybody put their foot down Oh, yeah (Yeah) (Whoo-hoo!) (I've got a feeling) Everybody had a good year (A feeling deep inside) Everybody had a hard time (Oh, yeah) Everybody had a wet dream (Oh, yeah) Everybody saw the sun shine (I've got a feeling) Everybody had a good year (A feeling I can't hide) Everybody let their hair down (Oh, no) Everybody pull their socks up (Oh, no, no) Everybody put their foot down Oh, yeah (Yeah) I've got a feeling I've got a feeling (Oh, yeah) I've got a feeling Yeah Spoken: Oh, my soul So hard\"]]"
      ]
     },
     "execution_count": 172,
     "metadata": {},
     "output_type": "execute_result"
    }
   ],
   "source": [
    "lyrics"
   ]
  },
  {
   "cell_type": "code",
   "execution_count": null,
   "metadata": {
    "collapsed": true
   },
   "outputs": [],
   "source": []
  }
 ],
 "metadata": {
  "kernelspec": {
   "display_name": "Python [conda root]",
   "language": "python",
   "name": "conda-root-py"
  },
  "language_info": {
   "codemirror_mode": {
    "name": "ipython",
    "version": 2
   },
   "file_extension": ".py",
   "mimetype": "text/x-python",
   "name": "python",
   "nbconvert_exporter": "python",
   "pygments_lexer": "ipython2",
   "version": "2.7.12"
  }
 },
 "nbformat": 4,
 "nbformat_minor": 1
}
